{
 "cells": [
  {
   "cell_type": "markdown",
   "id": "38fe063f",
   "metadata": {},
   "source": [
    "# Assignment 4\n",
    "1. __iter__() and __next__()\n",
    "2. Operator Overloading is the phenomenon of giving alternate/different meaning to an action performed by an operator        beyond their predefined operational function.\n",
    "4. by using __iadd__() method\n",
    "5. The purpose of operator overloading is to provide a special meaning of an operator for a user-defined data type"
   ]
  }
 ],
 "metadata": {
  "kernelspec": {
   "display_name": "Python 3 (ipykernel)",
   "language": "python",
   "name": "python3"
  },
  "language_info": {
   "codemirror_mode": {
    "name": "ipython",
    "version": 3
   },
   "file_extension": ".py",
   "mimetype": "text/x-python",
   "name": "python",
   "nbconvert_exporter": "python",
   "pygments_lexer": "ipython3",
   "version": "3.9.12"
  }
 },
 "nbformat": 4,
 "nbformat_minor": 5
}
