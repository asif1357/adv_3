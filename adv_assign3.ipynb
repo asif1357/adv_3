{
 "cells": [
  {
   "cell_type": "markdown",
   "id": "6caa0651",
   "metadata": {},
   "source": [
    "# Assignment 3\n",
    "1. A class is called an Abstract class if it contains one or more abstract methods. An abstract method is a method that is    declared, but contains no implementation. Abstract classes may not be instantiated, and its abstract methods must be      implemented by its subclasses\n",
    "2. It is considered as static vaariable(class variable)\n",
    "3. When child and parent class contain method with same name then we need to call parent class' method explicitly using      super for example __init__() method which same both in child and parent class\n",
    "4. The good way to do that is by calling to the original version directly, with augmented arguments\n",
    "5. the basic difference between class and fuction variable is all class function can use the class variable\n"
   ]
  }
 ],
 "metadata": {
  "kernelspec": {
   "display_name": "Python 3 (ipykernel)",
   "language": "python",
   "name": "python3"
  },
  "language_info": {
   "codemirror_mode": {
    "name": "ipython",
    "version": 3
   },
   "file_extension": ".py",
   "mimetype": "text/x-python",
   "name": "python",
   "nbconvert_exporter": "python",
   "pygments_lexer": "ipython3",
   "version": "3.9.12"
  }
 },
 "nbformat": 4,
 "nbformat_minor": 5
}
